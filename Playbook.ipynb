{
 "cells": [
  {
   "cell_type": "markdown",
   "id": "15195017-42ee-42c4-9855-a9d11dd3ffc1",
   "metadata": {},
   "source": [
    "# Imports"
   ]
  },
  {
   "cell_type": "code",
   "execution_count": 4,
   "id": "e3a13d46-ed97-4e9a-b260-d46d51ac1e92",
   "metadata": {},
   "outputs": [],
   "source": [
    "%run ~/REGE/utils.py"
   ]
  },
  {
   "cell_type": "markdown",
   "id": "96be1af7-dcd3-492f-8872-f47df4a7b567",
   "metadata": {},
   "source": [
    "# Runs"
   ]
  },
  {
   "cell_type": "code",
   "execution_count": null,
   "id": "964e507a-ed08-44b3-9528-0a5cfadb22e8",
   "metadata": {},
   "outputs": [
    {
     "name": "stdout",
     "output_type": "stream",
     "text": [
      "============================================\n",
      "citeseer_0.01\n",
      "============================================\n",
      "Test set results: loss= 2.1944 accuracy= 0.6672\n",
      "Epoch :  2770  | Loss :  0.46167603135108954\n",
      "Early Stopping at Epoch 2770\n",
      "Teacher Acc :  0.6671698113207547\n",
      "Student Acc :  0.6728301886792453\n"
     ]
    }
   ],
   "source": [
    "files = os.listdir('/home/shafi.z/REGE/data')\n",
    "data_name = ['citeseer', 'cora', 'coraml', 'polblogs']\n",
    "attack_type = 'grad'\n",
    "num_runs = 1\n",
    "res_dict = {}\n",
    "\n",
    "for d in data_name:\n",
    "    \n",
    "    data_files = ['/home/shafi.z/REGE/data/' + d + '_' + str(ptb) + '.pkl' for ptb in [0.01, 0.1]]\n",
    "    \n",
    "    for graph_name in data_files:\n",
    "        \n",
    "        # try:\n",
    "        graph_name = graph_name.replace(\"/home/shafi.z/REGE/data/\", \"\")\n",
    "        graph_name = graph_name.replace(\".pkl\", \"\")\n",
    "        print (\"============================================\")\n",
    "        print (graph_name) \n",
    "        print (\"============================================\")\n",
    "        \n",
    "        res_dict[graph_name] = {}\n",
    "\n",
    "        pre_attack_dataset = 'citeseer.npz'\n",
    "\n",
    "        graph_dict = get_graph(graph_name = graph_name,\n",
    "                               attack_type = attack_type, \n",
    "                               pre_attack_dataset = pre_attack_dataset, \n",
    "                               data_dir = '/home/shafi.z/REGE/data/', \n",
    "                               ensure_connected = False)\n",
    "\n",
    "        variance_dict = get_variances(graph = graph_dict['graph'],\n",
    "                                                  dist_mat = None,\n",
    "                                                  sample_dict = None,\n",
    "                                                  sample_count = 50,\n",
    "                                                  eigen_step = 25,\n",
    "                                                  plot = False, \n",
    "                                                  types = ['conformal', 'eigen'], \n",
    "                                                  graph_dict = graph_dict)\n",
    "        \n",
    "        features = scipy.sparse.csr_array(graph_dict['features'].cpu().numpy())\n",
    "        labels = graph_dict['labels'].cpu()\n",
    "        adj = graph_dict['adj']\n",
    "        idx_train = graph_dict['idx_train']\n",
    "        idx_test = graph_dict['idx_test']\n",
    "\n",
    "        device = torch.device(\"cuda:0\" if torch.cuda.is_available() else \"cpu\")\n",
    "\n",
    "        for _ in range(num_runs):\n",
    "            \n",
    "\n",
    "            eigen_sampled_var_model, eigen_sampled_var_test, r = train_eigen_sampled_variance_model(graph_dict = graph_dict,\n",
    "                                                                                                sample_dict = None,\n",
    "                                                                                                curvature_dict = None,\n",
    "                                                                                                variance = variance_dict['binary_deviation'],\n",
    "                                                                                                variance_hyp = 1,\n",
    "                                                                                                nhid = 16,\n",
    "                                                                                                lr = 1e-4,\n",
    "                                                                                                eigen_count = 5,\n",
    "                                                                                                train_iters = 100,\n",
    "                                                                                                adjacency = None,\n",
    "                                                                                                patience = 25)\n",
    "            try:\n",
    "                res_dict[graph_name]['rege(d)'].append(eigen_sampled_var_test)\n",
    "            except: \n",
    "                res_dict[graph_name]['rege(d)'] = [eigen_sampled_var_test]\n",
    "                \n",
    "\n",
    "            eigen_sampled_var_model, eigen_sampled_var_test, r = train_eigen_sampled_variance_model(graph_dict = graph_dict,\n",
    "                                                                                                sample_dict = None,\n",
    "                                                                                                curvature_dict = None,\n",
    "                                                                                                variance = variance_dict['conformal_radii'],\n",
    "                                                                                                variance_hyp = 1,\n",
    "                                                                                                nhid = 16,\n",
    "                                                                                                lr = 1e-4,\n",
    "                                                                                                eigen_count = 5,\n",
    "                                                                                                train_iters = 100,\n",
    "                                                                                                adjacency = None,\n",
    "                                                                                                patience = 25)\n",
    "            try:\n",
    "                res_dict[graph_name]['rege(m)'].append(eigen_sampled_var_test)\n",
    "            except: \n",
    "                res_dict[graph_name]['rege(m)'] = [eigen_sampled_var_test]\n",
    "\n",
    "\n",
    "        # except Exception as e: \n",
    "        #     print (e)\n",
    "        #     continue\n",
    "    "
   ]
  },
  {
   "cell_type": "code",
   "execution_count": null,
   "id": "d742e99f-76cb-49a4-8aa5-d068b67b8d23",
   "metadata": {},
   "outputs": [],
   "source": []
  }
 ],
 "metadata": {
  "kernelspec": {
   "display_name": "Python 3 (ipykernel)",
   "language": "python",
   "name": "python3"
  },
  "language_info": {
   "codemirror_mode": {
    "name": "ipython",
    "version": 3
   },
   "file_extension": ".py",
   "mimetype": "text/x-python",
   "name": "python",
   "nbconvert_exporter": "python",
   "pygments_lexer": "ipython3",
   "version": "3.10.14"
  }
 },
 "nbformat": 4,
 "nbformat_minor": 5
}
